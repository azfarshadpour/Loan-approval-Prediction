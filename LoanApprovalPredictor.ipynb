{
 "cells": [
  {
   "cell_type": "markdown",
   "id": "deae69f4-238c-4956-ad68-a0ed1a926d13",
   "metadata": {},
   "source": [
    "# Load the data "
   ]
  },
  {
   "cell_type": "code",
   "execution_count": 3,
   "id": "8e4f87b0-7618-47e7-83b4-e30b3f967d36",
   "metadata": {},
   "outputs": [
    {
     "data": {
      "text/html": [
       "<div>\n",
       "<style scoped>\n",
       "    .dataframe tbody tr th:only-of-type {\n",
       "        vertical-align: middle;\n",
       "    }\n",
       "\n",
       "    .dataframe tbody tr th {\n",
       "        vertical-align: top;\n",
       "    }\n",
       "\n",
       "    .dataframe thead th {\n",
       "        text-align: right;\n",
       "    }\n",
       "</style>\n",
       "<table border=\"1\" class=\"dataframe\">\n",
       "  <thead>\n",
       "    <tr style=\"text-align: right;\">\n",
       "      <th></th>\n",
       "      <th>Loan_ID</th>\n",
       "      <th>Gender</th>\n",
       "      <th>Married</th>\n",
       "      <th>Dependents</th>\n",
       "      <th>Education</th>\n",
       "      <th>Self_Employed</th>\n",
       "      <th>ApplicantIncome</th>\n",
       "      <th>CoapplicantIncome</th>\n",
       "      <th>LoanAmount</th>\n",
       "      <th>Loan_Amount_Term</th>\n",
       "      <th>Credit_History</th>\n",
       "      <th>Property_Area</th>\n",
       "      <th>Loan_Status</th>\n",
       "    </tr>\n",
       "  </thead>\n",
       "  <tbody>\n",
       "    <tr>\n",
       "      <th>0</th>\n",
       "      <td>LP001002</td>\n",
       "      <td>Male</td>\n",
       "      <td>No</td>\n",
       "      <td>0</td>\n",
       "      <td>Graduate</td>\n",
       "      <td>No</td>\n",
       "      <td>5849</td>\n",
       "      <td>0.0</td>\n",
       "      <td>NaN</td>\n",
       "      <td>360.0</td>\n",
       "      <td>1.0</td>\n",
       "      <td>Urban</td>\n",
       "      <td>Y</td>\n",
       "    </tr>\n",
       "    <tr>\n",
       "      <th>1</th>\n",
       "      <td>LP001003</td>\n",
       "      <td>Male</td>\n",
       "      <td>Yes</td>\n",
       "      <td>1</td>\n",
       "      <td>Graduate</td>\n",
       "      <td>No</td>\n",
       "      <td>4583</td>\n",
       "      <td>1508.0</td>\n",
       "      <td>128.0</td>\n",
       "      <td>360.0</td>\n",
       "      <td>1.0</td>\n",
       "      <td>Rural</td>\n",
       "      <td>N</td>\n",
       "    </tr>\n",
       "    <tr>\n",
       "      <th>2</th>\n",
       "      <td>LP001005</td>\n",
       "      <td>Male</td>\n",
       "      <td>Yes</td>\n",
       "      <td>0</td>\n",
       "      <td>Graduate</td>\n",
       "      <td>Yes</td>\n",
       "      <td>3000</td>\n",
       "      <td>0.0</td>\n",
       "      <td>66.0</td>\n",
       "      <td>360.0</td>\n",
       "      <td>1.0</td>\n",
       "      <td>Urban</td>\n",
       "      <td>Y</td>\n",
       "    </tr>\n",
       "    <tr>\n",
       "      <th>3</th>\n",
       "      <td>LP001006</td>\n",
       "      <td>Male</td>\n",
       "      <td>Yes</td>\n",
       "      <td>0</td>\n",
       "      <td>Not Graduate</td>\n",
       "      <td>No</td>\n",
       "      <td>2583</td>\n",
       "      <td>2358.0</td>\n",
       "      <td>120.0</td>\n",
       "      <td>360.0</td>\n",
       "      <td>1.0</td>\n",
       "      <td>Urban</td>\n",
       "      <td>Y</td>\n",
       "    </tr>\n",
       "    <tr>\n",
       "      <th>4</th>\n",
       "      <td>LP001008</td>\n",
       "      <td>Male</td>\n",
       "      <td>No</td>\n",
       "      <td>0</td>\n",
       "      <td>Graduate</td>\n",
       "      <td>No</td>\n",
       "      <td>6000</td>\n",
       "      <td>0.0</td>\n",
       "      <td>141.0</td>\n",
       "      <td>360.0</td>\n",
       "      <td>1.0</td>\n",
       "      <td>Urban</td>\n",
       "      <td>Y</td>\n",
       "    </tr>\n",
       "  </tbody>\n",
       "</table>\n",
       "</div>"
      ],
      "text/plain": [
       "    Loan_ID Gender Married Dependents     Education Self_Employed  \\\n",
       "0  LP001002   Male      No          0      Graduate            No   \n",
       "1  LP001003   Male     Yes          1      Graduate            No   \n",
       "2  LP001005   Male     Yes          0      Graduate           Yes   \n",
       "3  LP001006   Male     Yes          0  Not Graduate            No   \n",
       "4  LP001008   Male      No          0      Graduate            No   \n",
       "\n",
       "   ApplicantIncome  CoapplicantIncome  LoanAmount  Loan_Amount_Term  \\\n",
       "0             5849                0.0         NaN             360.0   \n",
       "1             4583             1508.0       128.0             360.0   \n",
       "2             3000                0.0        66.0             360.0   \n",
       "3             2583             2358.0       120.0             360.0   \n",
       "4             6000                0.0       141.0             360.0   \n",
       "\n",
       "   Credit_History Property_Area Loan_Status  \n",
       "0             1.0         Urban           Y  \n",
       "1             1.0         Rural           N  \n",
       "2             1.0         Urban           Y  \n",
       "3             1.0         Urban           Y  \n",
       "4             1.0         Urban           Y  "
      ]
     },
     "execution_count": 3,
     "metadata": {},
     "output_type": "execute_result"
    }
   ],
   "source": [
    "import pandas as pd\n",
    "import numpy as np\n",
    "from matplotlib import pyplot as plt\n",
    "\n",
    "df = pd.read_csv(r\"C:\\Users\\AzFar\\Quora Duplicate Questions\\data.csv\")  \n",
    "df.head()"
   ]
  },
  {
   "cell_type": "markdown",
   "id": "bef8e8bf-74c7-48c3-809a-b99c48fea31f",
   "metadata": {
    "tags": []
   },
   "source": [
    "# Removing outliers by looking at std"
   ]
  },
  {
   "cell_type": "code",
   "execution_count": 5,
   "id": "dfa54c16-7e70-4fd7-9fc5-befe3ed20072",
   "metadata": {},
   "outputs": [],
   "source": [
    "from scipy import stats\n",
    "import numpy as np\n",
    "\n",
    "def remove_outliers(data):\n",
    "     \n",
    "        # X_train.ApplicantIncome.describe()\n",
    "        upper_limit_income= data.ApplicantIncome.mean() + 3*data.ApplicantIncome.std()\n",
    "        #print(upper_limit_income)\n",
    "        lower_limit_income = data.ApplicantIncome.mean() - 3*data.ApplicantIncome.std()\n",
    "        #print(lower_limit)\n",
    "        data= data[(data['ApplicantIncome'] < upper_limit_income) & (data['ApplicantIncome']>lower_limit_income)]\n",
    "        upper_limit_loan= data.LoanAmount.mean() + 3*data.LoanAmount.std()\n",
    "        #print(upper_limit_loan)\n",
    "        lower_limit_loan= data.LoanAmount.mean() - 3*data.LoanAmount.std()\n",
    "        #print(lower_limit_loan) \n",
    "        data= data[(data['LoanAmount'] < upper_limit_loan) & (data['LoanAmount']>lower_limit_loan)]\n",
    "        \n",
    "        return data\n",
    "\n",
    "        "
   ]
  },
  {
   "cell_type": "markdown",
   "id": "70902bf4-67a8-479d-9b58-0f9dff42d8c4",
   "metadata": {
    "tags": []
   },
   "source": [
    "# Splitting the dataset "
   ]
  },
  {
   "cell_type": "code",
   "execution_count": 6,
   "id": "ec38288a-f87d-46e2-9d56-5005aced0642",
   "metadata": {},
   "outputs": [
    {
     "name": "stdout",
     "output_type": "stream",
     "text": [
      "(456, 11)\n",
      "(115, 11)\n"
     ]
    }
   ],
   "source": [
    "from sklearn.model_selection import train_test_split\n",
    "\n",
    "df= remove_outliers(df)\n",
    "X= df.drop([\"Loan_Status\",\"Loan_ID\"], axis=1 )\n",
    "y= df[\"Loan_Status\"]\n",
    "\n",
    "X_train, X_test, y_train, y_test = train_test_split(X, y, test_size=0.2, random_state=25) \n",
    "\n",
    "print(X_train.shape)\n",
    "print(X_test.shape)"
   ]
  },
  {
   "cell_type": "markdown",
   "id": "37ef1e37-fc1b-45d3-84a0-68c808d721a0",
   "metadata": {},
   "source": [
    "# Data Cleaning\n",
    "\n",
    "This step typically involves imputing missing values and treating outliers.\n",
    "Imputing Missing Values\n",
    "\n",
    "Missing values may not always be NaNs. For instance, the Loan_Amount_Term might be 0, which does not make sense.\n"
   ]
  },
  {
   "cell_type": "code",
   "execution_count": 7,
   "id": "25095e00-cdf6-4d91-aacc-5d77d4903bf4",
   "metadata": {},
   "outputs": [],
   "source": [
    "# Using pipeline to impute missing values\n",
    "\n",
    "from sklearn.compose import ColumnTransformer\n",
    "from sklearn.preprocessing import OneHotEncoder\n",
    "from sklearn.impute import SimpleImputer\n",
    "from sklearn.pipeline import Pipeline\n",
    "from sklearn.decomposition import PCA\n",
    "from sklearn.metrics import accuracy_score\n",
    "from sklearn.pipeline import FeatureUnion\n",
    "from sklearn.feature_selection import SelectKBest\n",
    "from sklearn.linear_model import LogisticRegression\n",
    "from sklearn.preprocessing import StandardScaler\n",
    "from sklearn.linear_model import RidgeClassifier\n",
    "from sklearn.model_selection import GridSearchCV\n"
   ]
  },
  {
   "cell_type": "code",
   "execution_count": 8,
   "id": "1a6c2981-2245-4f81-88ae-dbcb02ee9672",
   "metadata": {},
   "outputs": [],
   "source": [
    "col_cat= [col for col in X_train.columns if (X_train[col].dtypes=='object')]\n",
    "num_col= [col for col in X_train.columns if (X_train[col].dtypes!='object')]\n"
   ]
  },
  {
   "cell_type": "code",
   "execution_count": 9,
   "id": "87130127-b85a-4f4c-ab16-c7659ac2657b",
   "metadata": {},
   "outputs": [],
   "source": [
    "numeric_transform = Pipeline([('impute_num', SimpleImputer(strategy='most_frequent')), \n",
    "                              ('scaling', StandardScaler())])\n",
    "\n",
    "categorical_transform = Pipeline([('impute_cat', SimpleImputer(strategy='constant',fill_value='unknown')), \n",
    "                                  ('one-hot-encode', OneHotEncoder(sparse=False))])\n",
    "\n",
    "preprocessing = ColumnTransformer([('numeric', numeric_transform, ['LoanAmount', 'Loan_Amount_Term']),\n",
    "                                        ('credit_hist_impute', SimpleImputer(strategy='constant', fill_value=0),['Credit_History']),\n",
    "                                        ('categorical', categorical_transform, ['Gender','Married','Dependents','Self_Employed'])])\n",
    "\n",
    "\n",
    "feature_union = FeatureUnion([('pca', PCA()), \n",
    "                              ('select_best', SelectKBest())])\n",
    "\n"
   ]
  },
  {
   "cell_type": "code",
   "execution_count": 10,
   "id": "a115c60f-501d-48fa-bab4-93b6232e568c",
   "metadata": {},
   "outputs": [
    {
     "data": {
      "text/plain": [
       "(456, 11)"
      ]
     },
     "execution_count": 10,
     "metadata": {},
     "output_type": "execute_result"
    }
   ],
   "source": [
    "X_train.shape"
   ]
  },
  {
   "cell_type": "markdown",
   "id": "3cbdbfd9-3506-4769-b24b-ce0e87523aca",
   "metadata": {},
   "source": [
    "# Modeling with LogisticRegression "
   ]
  },
  {
   "cell_type": "code",
   "execution_count": 11,
   "id": "7ba22665-431a-475d-b404-2ed02f3d5fc3",
   "metadata": {},
   "outputs": [
    {
     "name": "stdout",
     "output_type": "stream",
     "text": [
      "Best test set accuracy: 0.8347826086956521\n",
      "Achieved with hyperparameters: {'features__pca__n_components': 3, 'features__select_best__k': 8}\n"
     ]
    }
   ],
   "source": [
    "pipeline = Pipeline([('preprocessing', preprocessing), \n",
    "                          ('features', feature_union),\n",
    "                          ('classifier', LogisticRegression())\n",
    "                           #SVC())\n",
    "                    ])\n",
    "\n",
    "                           \n",
    "# Find the best hyperparameters using GridSearchCV on the train set\n",
    "param_grid = {#'classifier__alpha': [0.001, 0.01, 0.1], \n",
    "               #'classifier__kernel':['poly', 'rbf', 'sigmoid'],\n",
    "               #'classifier__C': [50, 10, 1.0, 0.1, 0.01],\n",
    "               #'classifier__gamma': ['scale'],\n",
    "              'features__pca__n_components': [3, 5,7],\n",
    "              'features__select_best__k': [5, 6, 8]}\n",
    "\n",
    "grid = GridSearchCV(pipeline, param_grid=param_grid, cv=5)\n",
    "grid.fit(X_train, y_train)\n",
    "\n",
    "best_model = grid.best_estimator_\n",
    "best_hyperparams = grid.best_params_\n",
    "\n",
    "best_acc = grid.score(X_test, y_test)\n",
    "print(f'Best test set accuracy: {best_acc}\\nAchieved with hyperparameters: {best_hyperparams}')\n"
   ]
  },
  {
   "cell_type": "markdown",
   "id": "a9ed0ead-c534-443f-b6bf-16f9d5db8563",
   "metadata": {},
   "source": [
    "# Deploy LogisticRegression Model in our disk "
   ]
  },
  {
   "cell_type": "code",
   "execution_count": 12,
   "id": "142c79c5-72f3-47a4-abff-44654825363b",
   "metadata": {},
   "outputs": [],
   "source": [
    "import pickle\n",
    "\n",
    "pickle.dump( grid, open( \"LogisticRegression_model\", \"wb\" ) )\n"
   ]
  },
  {
   "cell_type": "markdown",
   "id": "1be2479c-e789-46c9-8c27-63ab0eef9610",
   "metadata": {},
   "source": [
    "# Using Pipeline"
   ]
  },
  {
   "cell_type": "code",
   "execution_count": 14,
   "id": "d562b5de-552d-4c17-8169-fc2a2b2c5402",
   "metadata": {},
   "outputs": [],
   "source": [
    "feature_union = FeatureUnion([('pca', PCA(n_components=3)), \n",
    "                              ('select_best', SelectKBest(k=8))])\n",
    "\n",
    "pipeline = Pipeline([('preprocessing', preprocessing), \n",
    "                          ('features', feature_union),\n",
    "                          ('classifier',LogisticRegression())])\n",
    "\n",
    "pipeline.fit(X_train, y_train)\n",
    "\n",
    "y_pred= pipeline.predict(X_test)\n"
   ]
  },
  {
   "cell_type": "markdown",
   "id": "89ef1c38-1f5e-42d1-900d-52912b84ee76",
   "metadata": {},
   "source": [
    "# Visulalizing the Pipeline"
   ]
  },
  {
   "cell_type": "code",
   "execution_count": 16,
   "id": "f896ac48-70fd-4d14-960a-c65d91cad8a3",
   "metadata": {},
   "outputs": [
    {
     "data": {
      "text/html": [
       "<style>#sk-a61b1328-8851-4fc7-a200-759afeff044c {color: black;background-color: white;}#sk-a61b1328-8851-4fc7-a200-759afeff044c pre{padding: 0;}#sk-a61b1328-8851-4fc7-a200-759afeff044c div.sk-toggleable {background-color: white;}#sk-a61b1328-8851-4fc7-a200-759afeff044c label.sk-toggleable__label {cursor: pointer;display: block;width: 100%;margin-bottom: 0;padding: 0.2em 0.3em;box-sizing: border-box;text-align: center;}#sk-a61b1328-8851-4fc7-a200-759afeff044c div.sk-toggleable__content {max-height: 0;max-width: 0;overflow: hidden;text-align: left;background-color: #f0f8ff;}#sk-a61b1328-8851-4fc7-a200-759afeff044c div.sk-toggleable__content pre {margin: 0.2em;color: black;border-radius: 0.25em;background-color: #f0f8ff;}#sk-a61b1328-8851-4fc7-a200-759afeff044c input.sk-toggleable__control:checked~div.sk-toggleable__content {max-height: 200px;max-width: 100%;overflow: auto;}#sk-a61b1328-8851-4fc7-a200-759afeff044c div.sk-estimator input.sk-toggleable__control:checked~label.sk-toggleable__label {background-color: #d4ebff;}#sk-a61b1328-8851-4fc7-a200-759afeff044c div.sk-label input.sk-toggleable__control:checked~label.sk-toggleable__label {background-color: #d4ebff;}#sk-a61b1328-8851-4fc7-a200-759afeff044c input.sk-hidden--visually {border: 0;clip: rect(1px 1px 1px 1px);clip: rect(1px, 1px, 1px, 1px);height: 1px;margin: -1px;overflow: hidden;padding: 0;position: absolute;width: 1px;}#sk-a61b1328-8851-4fc7-a200-759afeff044c div.sk-estimator {font-family: monospace;background-color: #f0f8ff;margin: 0.25em 0.25em;border: 1px dotted black;border-radius: 0.25em;box-sizing: border-box;}#sk-a61b1328-8851-4fc7-a200-759afeff044c div.sk-estimator:hover {background-color: #d4ebff;}#sk-a61b1328-8851-4fc7-a200-759afeff044c div.sk-parallel-item::after {content: \"\";width: 100%;border-bottom: 1px solid gray;flex-grow: 1;}#sk-a61b1328-8851-4fc7-a200-759afeff044c div.sk-label:hover label.sk-toggleable__label {background-color: #d4ebff;}#sk-a61b1328-8851-4fc7-a200-759afeff044c div.sk-serial::before {content: \"\";position: absolute;border-left: 1px solid gray;box-sizing: border-box;top: 2em;bottom: 0;left: 50%;}#sk-a61b1328-8851-4fc7-a200-759afeff044c div.sk-serial {display: flex;flex-direction: column;align-items: center;background-color: white;}#sk-a61b1328-8851-4fc7-a200-759afeff044c div.sk-item {z-index: 1;}#sk-a61b1328-8851-4fc7-a200-759afeff044c div.sk-parallel {display: flex;align-items: stretch;justify-content: center;background-color: white;}#sk-a61b1328-8851-4fc7-a200-759afeff044c div.sk-parallel-item {display: flex;flex-direction: column;position: relative;background-color: white;}#sk-a61b1328-8851-4fc7-a200-759afeff044c div.sk-parallel-item:first-child::after {align-self: flex-end;width: 50%;}#sk-a61b1328-8851-4fc7-a200-759afeff044c div.sk-parallel-item:last-child::after {align-self: flex-start;width: 50%;}#sk-a61b1328-8851-4fc7-a200-759afeff044c div.sk-parallel-item:only-child::after {width: 0;}#sk-a61b1328-8851-4fc7-a200-759afeff044c div.sk-dashed-wrapped {border: 1px dashed gray;margin: 0.2em;box-sizing: border-box;padding-bottom: 0.1em;background-color: white;position: relative;}#sk-a61b1328-8851-4fc7-a200-759afeff044c div.sk-label label {font-family: monospace;font-weight: bold;background-color: white;display: inline-block;line-height: 1.2em;}#sk-a61b1328-8851-4fc7-a200-759afeff044c div.sk-label-container {position: relative;z-index: 2;text-align: center;}#sk-a61b1328-8851-4fc7-a200-759afeff044c div.sk-container {display: inline-block;position: relative;}</style><div id=\"sk-a61b1328-8851-4fc7-a200-759afeff044c\" class\"sk-top-container\"><div class=\"sk-container\"><div class=\"sk-item sk-dashed-wrapped\"><div class=\"sk-label-container\"><div class=\"sk-label sk-toggleable\"><input class=\"sk-toggleable__control sk-hidden--visually\" id=\"87297412-f9a5-48fe-8658-3eabad45c6b5\" type=\"checkbox\" ><label class=\"sk-toggleable__label\" for=\"87297412-f9a5-48fe-8658-3eabad45c6b5\">Pipeline</label><div class=\"sk-toggleable__content\"><pre>Pipeline(steps=[('preprocessing',\n",
       "                 ColumnTransformer(transformers=[('numeric',\n",
       "                                                  Pipeline(steps=[('impute_num',\n",
       "                                                                   SimpleImputer(strategy='most_frequent')),\n",
       "                                                                  ('scaling',\n",
       "                                                                   StandardScaler())]),\n",
       "                                                  ['LoanAmount',\n",
       "                                                   'Loan_Amount_Term']),\n",
       "                                                 ('credit_hist_impute',\n",
       "                                                  SimpleImputer(fill_value=0,\n",
       "                                                                strategy='constant'),\n",
       "                                                  ['Credit_History']),\n",
       "                                                 ('categorical',\n",
       "                                                  Pipeline(steps=[('impute_cat',\n",
       "                                                                   SimpleImputer(fill_value='unknown',\n",
       "                                                                                 strategy='constant')),\n",
       "                                                                  ('one-hot-encode',\n",
       "                                                                   OneHotEncoder(sparse=False))]),\n",
       "                                                  ['Gender', 'Married',\n",
       "                                                   'Dependents',\n",
       "                                                   'Self_Employed'])])),\n",
       "                ('features',\n",
       "                 FeatureUnion(transformer_list=[('pca', PCA(n_components=3)),\n",
       "                                                ('select_best',\n",
       "                                                 SelectKBest(k=8))])),\n",
       "                ('classifier', LogisticRegression())])</pre></div></div></div><div class=\"sk-serial\"><div class=\"sk-item sk-dashed-wrapped\"><div class=\"sk-label-container\"><div class=\"sk-label sk-toggleable\"><input class=\"sk-toggleable__control sk-hidden--visually\" id=\"34106584-cd59-497d-ad0a-700b2b3bc68d\" type=\"checkbox\" ><label class=\"sk-toggleable__label\" for=\"34106584-cd59-497d-ad0a-700b2b3bc68d\">preprocessing: ColumnTransformer</label><div class=\"sk-toggleable__content\"><pre>ColumnTransformer(transformers=[('numeric',\n",
       "                                 Pipeline(steps=[('impute_num',\n",
       "                                                  SimpleImputer(strategy='most_frequent')),\n",
       "                                                 ('scaling',\n",
       "                                                  StandardScaler())]),\n",
       "                                 ['LoanAmount', 'Loan_Amount_Term']),\n",
       "                                ('credit_hist_impute',\n",
       "                                 SimpleImputer(fill_value=0,\n",
       "                                               strategy='constant'),\n",
       "                                 ['Credit_History']),\n",
       "                                ('categorical',\n",
       "                                 Pipeline(steps=[('impute_cat',\n",
       "                                                  SimpleImputer(fill_value='unknown',\n",
       "                                                                strategy='constant')),\n",
       "                                                 ('one-hot-encode',\n",
       "                                                  OneHotEncoder(sparse=False))]),\n",
       "                                 ['Gender', 'Married', 'Dependents',\n",
       "                                  'Self_Employed'])])</pre></div></div></div><div class=\"sk-parallel\"><div class=\"sk-parallel-item\"><div class=\"sk-item\"><div class=\"sk-label-container\"><div class=\"sk-label sk-toggleable\"><input class=\"sk-toggleable__control sk-hidden--visually\" id=\"0061b175-10b4-4696-9476-61d15c7d8ac0\" type=\"checkbox\" ><label class=\"sk-toggleable__label\" for=\"0061b175-10b4-4696-9476-61d15c7d8ac0\">numeric</label><div class=\"sk-toggleable__content\"><pre>['LoanAmount', 'Loan_Amount_Term']</pre></div></div></div><div class=\"sk-serial\"><div class=\"sk-item\"><div class=\"sk-serial\"><div class=\"sk-item\"><div class=\"sk-estimator sk-toggleable\"><input class=\"sk-toggleable__control sk-hidden--visually\" id=\"152b8777-16e5-4997-a666-297176981185\" type=\"checkbox\" ><label class=\"sk-toggleable__label\" for=\"152b8777-16e5-4997-a666-297176981185\">SimpleImputer</label><div class=\"sk-toggleable__content\"><pre>SimpleImputer(strategy='most_frequent')</pre></div></div></div><div class=\"sk-item\"><div class=\"sk-estimator sk-toggleable\"><input class=\"sk-toggleable__control sk-hidden--visually\" id=\"e8c421d6-cfe1-4e75-b19b-5f821220575b\" type=\"checkbox\" ><label class=\"sk-toggleable__label\" for=\"e8c421d6-cfe1-4e75-b19b-5f821220575b\">StandardScaler</label><div class=\"sk-toggleable__content\"><pre>StandardScaler()</pre></div></div></div></div></div></div></div></div><div class=\"sk-parallel-item\"><div class=\"sk-item\"><div class=\"sk-label-container\"><div class=\"sk-label sk-toggleable\"><input class=\"sk-toggleable__control sk-hidden--visually\" id=\"7d0f2622-42fa-4d07-a7fa-7828a91302d5\" type=\"checkbox\" ><label class=\"sk-toggleable__label\" for=\"7d0f2622-42fa-4d07-a7fa-7828a91302d5\">credit_hist_impute</label><div class=\"sk-toggleable__content\"><pre>['Credit_History']</pre></div></div></div><div class=\"sk-serial\"><div class=\"sk-item\"><div class=\"sk-estimator sk-toggleable\"><input class=\"sk-toggleable__control sk-hidden--visually\" id=\"9e6d0c0e-592f-4de4-a55b-17814634896d\" type=\"checkbox\" ><label class=\"sk-toggleable__label\" for=\"9e6d0c0e-592f-4de4-a55b-17814634896d\">SimpleImputer</label><div class=\"sk-toggleable__content\"><pre>SimpleImputer(fill_value=0, strategy='constant')</pre></div></div></div></div></div></div><div class=\"sk-parallel-item\"><div class=\"sk-item\"><div class=\"sk-label-container\"><div class=\"sk-label sk-toggleable\"><input class=\"sk-toggleable__control sk-hidden--visually\" id=\"08bcda6e-6265-4fe6-9228-ef20febf184f\" type=\"checkbox\" ><label class=\"sk-toggleable__label\" for=\"08bcda6e-6265-4fe6-9228-ef20febf184f\">categorical</label><div class=\"sk-toggleable__content\"><pre>['Gender', 'Married', 'Dependents', 'Self_Employed']</pre></div></div></div><div class=\"sk-serial\"><div class=\"sk-item\"><div class=\"sk-serial\"><div class=\"sk-item\"><div class=\"sk-estimator sk-toggleable\"><input class=\"sk-toggleable__control sk-hidden--visually\" id=\"f51601d9-f0d2-4004-be14-fef4ac87cb55\" type=\"checkbox\" ><label class=\"sk-toggleable__label\" for=\"f51601d9-f0d2-4004-be14-fef4ac87cb55\">SimpleImputer</label><div class=\"sk-toggleable__content\"><pre>SimpleImputer(fill_value='unknown', strategy='constant')</pre></div></div></div><div class=\"sk-item\"><div class=\"sk-estimator sk-toggleable\"><input class=\"sk-toggleable__control sk-hidden--visually\" id=\"b7fff881-a267-44df-a1b3-2c6cd6c71883\" type=\"checkbox\" ><label class=\"sk-toggleable__label\" for=\"b7fff881-a267-44df-a1b3-2c6cd6c71883\">OneHotEncoder</label><div class=\"sk-toggleable__content\"><pre>OneHotEncoder(sparse=False)</pre></div></div></div></div></div></div></div></div></div></div><div class=\"sk-item sk-dashed-wrapped\"><div class=\"sk-label-container\"><div class=\"sk-label sk-toggleable\"><input class=\"sk-toggleable__control sk-hidden--visually\" id=\"cb70f264-9620-401a-a0bb-66ccd22b11c5\" type=\"checkbox\" ><label class=\"sk-toggleable__label\" for=\"cb70f264-9620-401a-a0bb-66ccd22b11c5\">features: FeatureUnion</label><div class=\"sk-toggleable__content\"><pre>FeatureUnion(transformer_list=[('pca', PCA(n_components=3)),\n",
       "                               ('select_best', SelectKBest(k=8))])</pre></div></div></div><div class=\"sk-parallel\"><div class=\"sk-parallel-item\"><div class=\"sk-item\"><div class=\"sk-label-container\"><div class=\"sk-label sk-toggleable\"><label>pca</label></div></div><div class=\"sk-serial\"><div class=\"sk-item\"><div class=\"sk-estimator sk-toggleable\"><input class=\"sk-toggleable__control sk-hidden--visually\" id=\"d80ab0ab-df87-4189-8b6d-90c3a9515c45\" type=\"checkbox\" ><label class=\"sk-toggleable__label\" for=\"d80ab0ab-df87-4189-8b6d-90c3a9515c45\">PCA</label><div class=\"sk-toggleable__content\"><pre>PCA(n_components=3)</pre></div></div></div></div></div></div><div class=\"sk-parallel-item\"><div class=\"sk-item\"><div class=\"sk-label-container\"><div class=\"sk-label sk-toggleable\"><label>select_best</label></div></div><div class=\"sk-serial\"><div class=\"sk-item\"><div class=\"sk-estimator sk-toggleable\"><input class=\"sk-toggleable__control sk-hidden--visually\" id=\"621e2858-1030-474a-8435-445898a7485d\" type=\"checkbox\" ><label class=\"sk-toggleable__label\" for=\"621e2858-1030-474a-8435-445898a7485d\">SelectKBest</label><div class=\"sk-toggleable__content\"><pre>SelectKBest(k=8)</pre></div></div></div></div></div></div></div></div><div class=\"sk-item\"><div class=\"sk-estimator sk-toggleable\"><input class=\"sk-toggleable__control sk-hidden--visually\" id=\"aa6c6ca0-1d1a-4ace-9d1f-b99aa97af385\" type=\"checkbox\" ><label class=\"sk-toggleable__label\" for=\"aa6c6ca0-1d1a-4ace-9d1f-b99aa97af385\">LogisticRegression</label><div class=\"sk-toggleable__content\"><pre>LogisticRegression()</pre></div></div></div></div></div></div></div>"
      ],
      "text/plain": [
       "Pipeline(steps=[('preprocessing',\n",
       "                 ColumnTransformer(transformers=[('numeric',\n",
       "                                                  Pipeline(steps=[('impute_num',\n",
       "                                                                   SimpleImputer(strategy='most_frequent')),\n",
       "                                                                  ('scaling',\n",
       "                                                                   StandardScaler())]),\n",
       "                                                  ['LoanAmount',\n",
       "                                                   'Loan_Amount_Term']),\n",
       "                                                 ('credit_hist_impute',\n",
       "                                                  SimpleImputer(fill_value=0,\n",
       "                                                                strategy='constant'),\n",
       "                                                  ['Credit_History']),\n",
       "                                                 ('categorical',\n",
       "                                                  Pipeline(steps=[('impute_cat',\n",
       "                                                                   SimpleImputer(fill_value='unknown',\n",
       "                                                                                 strategy='constant')),\n",
       "                                                                  ('one-hot-encode',\n",
       "                                                                   OneHotEncoder(sparse=False))]),\n",
       "                                                  ['Gender', 'Married',\n",
       "                                                   'Dependents',\n",
       "                                                   'Self_Employed'])])),\n",
       "                ('features',\n",
       "                 FeatureUnion(transformer_list=[('pca', PCA(n_components=3)),\n",
       "                                                ('select_best',\n",
       "                                                 SelectKBest(k=8))])),\n",
       "                ('classifier', LogisticRegression())])"
      ]
     },
     "execution_count": 16,
     "metadata": {},
     "output_type": "execute_result"
    }
   ],
   "source": [
    "from sklearn import set_config\n",
    "set_config(display='diagram')\n",
    "\n",
    "pipeline"
   ]
  },
  {
   "cell_type": "markdown",
   "id": "7c1a8109-9541-4f2a-9505-3cdba4bac73c",
   "metadata": {},
   "source": [
    "# Confusion Matrix "
   ]
  },
  {
   "cell_type": "code",
   "execution_count": 15,
   "id": "08bb50eb-7fa9-4cd1-a222-b381ea2faac0",
   "metadata": {},
   "outputs": [
    {
     "data": {
      "image/png": "[encoded data removed]",
      "text/plain": [
       "<Figure size 432x288 with 2 Axes>"
      ]
     },
     "metadata": {
      "needs_background": "light"
     },
     "output_type": "display_data"
    }
   ],
   "source": [
    "import seaborn as sns\n",
    "from sklearn.metrics import confusion_matrix\n",
    "\n",
    "cf_matrix = confusion_matrix(y_test, y_pred)\n",
    "ax = sns.heatmap(cf_matrix, annot=True, cmap='Blues')\n",
    "\n",
    "ax.set_title('Seaborn Confusion Matrix with labels\\n\\n');\n",
    "ax.set_xlabel('\\nPredicted Values')\n",
    "ax.set_ylabel('Actual Values ');\n",
    "\n",
    "## Ticket labels - List must be in alphabetical order\n",
    "ax.xaxis.set_ticklabels(['False','True'])\n",
    "ax.yaxis.set_ticklabels(['False','True'])\n",
    "\n",
    "## Display the visualization of the Confusion Matrix.\n",
    "plt.show()"
   ]
  },
  {
   "cell_type": "code",
   "execution_count": null,
   "id": "6994918d-5bc8-413a-a1af-0bbdb968f131",
   "metadata": {},
   "outputs": [],
   "source": []
  }
 ],
 "metadata": {
  "kernelspec": {
   "display_name": "Python 3 (ipykernel)",
   "language": "python",
   "name": "python3"
  },
  "language_info": {
   "codemirror_mode": {
    "name": "ipython",
    "version": 3
   },
   "file_extension": ".py",
   "mimetype": "text/x-python",
   "name": "python",
   "nbconvert_exporter": "python",
   "pygments_lexer": "ipython3",
   "version": "3.9.7"
  }
 },
 "nbformat": 4,
 "nbformat_minor": 5
}
